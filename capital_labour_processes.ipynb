{
 "cells": [
  {
   "cell_type": "code",
   "execution_count": 10,
   "id": "de3cb122",
   "metadata": {},
   "outputs": [],
   "source": [
    "import numpy as np\n",
    "import matplotlib.pyplot as plt"
   ]
  },
  {
   "cell_type": "code",
   "execution_count": 95,
   "id": "49c94fb2",
   "metadata": {},
   "outputs": [],
   "source": [
    "def bellman_update_q_table(ind, Q, S, A, R, S_, alpha, gamma):\n",
    "    \"\"\"\n",
    "    Performs a one-step update using the bellman update equation for Q-learning.\n",
    "    :param ind: the indices of agents to update for, must match shapes of other arrays\n",
    "    :param agentConfig:\n",
    "    :param Q: np.ndarray Q-table indexed by (agents, states, actions)\n",
    "    :param S: np.ndarray States indexed by (agents)\n",
    "    :param A: np.ndarray Actions indexed by (agents)\n",
    "    :param R: np.ndarray Rewards indexed by (agents)\n",
    "    :param S_: np.ndarray Next States indexed by (agents)\n",
    "    :return: np.ndarray Q-table indexed by (agents, states, actions)\n",
    "    \"\"\"\n",
    "    # print(ind, Q[ind, S[ind], A[ind]], S[ind], A[ind], R[ind], S_[ind], Q[ind, S_[ind]].shape)\n",
    "    all_belief_updates = alpha * (R[ind] + gamma * Q[ind, S_[ind]].max(axis=1) - Q[ind, S[ind], A[ind]])\n",
    "    Q[ind, S[ind], A[ind]] = Q[ind, S[ind], A[ind]] + all_belief_updates\n",
    "    return Q, np.abs(all_belief_updates).sum()"
   ]
  },
  {
   "cell_type": "code",
   "execution_count": 96,
   "id": "2e4de66a",
   "metadata": {},
   "outputs": [],
   "source": [
    "def e_greedy_select_action(Q, S, epsilon):\n",
    "    \"\"\"\n",
    "    Select actions based on an epsilon greedy policy. Epsilon determines the probability with which\n",
    "    an action is selected at random. Otherwise, the action is selected as the argmax of the state.\n",
    "    During the argmax operation and given a tie the argmax operator selects the first occurrence.\n",
    "    :param agentConfig:\n",
    "    :param Q: np.ndarray Q-table indexed by (agents, states, actions)\n",
    "    :param S: np.ndarray States indexed by (agents)\n",
    "    :return: np.ndarray Actions indexed by (agents)\n",
    "    \"\"\"\n",
    "    indices = np.arange(len(S))\n",
    "    rand = np.random.random_sample(size=len(S))\n",
    "    randA = np.random.randint(len(Q[0, 0, :]), size=len(S))\n",
    "    A = np.where(rand >= epsilon,\n",
    "                 np.argmax(Q[indices, S, :], axis=1),\n",
    "                 randA)\n",
    "    return A"
   ]
  },
  {
   "cell_type": "code",
   "execution_count": 107,
   "id": "7eaf6ebd",
   "metadata": {},
   "outputs": [],
   "source": [
    "def production(multiplier, elasticity, capital, labour):\n",
    "    return multiplier*capital**(elasticity)*labour**(1-elasticity)"
   ]
  },
  {
   "cell_type": "code",
   "execution_count": 298,
   "id": "0faff1c8",
   "metadata": {},
   "outputs": [],
   "source": [
    "def redistribution(Y, beta, capital_allocation, labour_allocation):\n",
    "    to_capitalists = Y*beta\n",
    "    to_labourers = Y*(1-beta)\n",
    "    # capitalist_shares = capital_allocations/capital_allocations.sum()\n",
    "    # labourer_shares = labour_allocations/labour_allocations.sum()\n",
    "    # capitalist_return = to_capitalists * capitalist_shares\n",
    "    # labourer_return = to_labourer * labourer_shares\n",
    "    \n",
    "    # shortcut\n",
    "    if capital_allocation==0 or labour_allocation==0:\n",
    "        return [.0, .0]\n",
    "    else:\n",
    "        capital_return = to_capitalists/capital_allocation\n",
    "        labour_return = to_labourers/labour_allocation\n",
    "        return [labour_return, capital_return]"
   ]
  },
  {
   "cell_type": "code",
   "execution_count": 549,
   "id": "53acbd76",
   "metadata": {},
   "outputs": [],
   "source": [
    "n_agents = 10\n",
    "n_processes = 2\n",
    "\n",
    "wants = np.random.randint(1, 100, size=n_agents).astype(float)\n",
    "capitals = np.random.randint(1, 100, size=n_agents).astype(float)\n",
    "timenergy = np.ones(n_agents)*50\n",
    "\n",
    "p_multipliers = np.ones(n_processes)*5 # np.random.random(size=n_processes)*5\n",
    "p_elasticities = np.array([0.04765849, 0.04537723]) # np.random.random(size=n_processes)\n",
    "redistribution_thresholds = p_multipliers"
   ]
  },
  {
   "cell_type": "code",
   "execution_count": 550,
   "id": "8215fdc8",
   "metadata": {
    "scrolled": true
   },
   "outputs": [
    {
     "data": {
      "text/plain": [
       "(array([5., 5.]), array([0.04765849, 0.04537723]))"
      ]
     },
     "execution_count": 550,
     "metadata": {},
     "output_type": "execute_result"
    }
   ],
   "source": [
    "p_multipliers, p_elasticities"
   ]
  },
  {
   "cell_type": "code",
   "execution_count": 551,
   "id": "4d84f84b",
   "metadata": {},
   "outputs": [],
   "source": [
    "Q_capital = np.random.random(size=(n_agents, 1, n_processes))*0.1\n",
    "Q_labour = np.random.random(size=(n_agents, 1, n_processes))*0.1"
   ]
  },
  {
   "cell_type": "code",
   "execution_count": 552,
   "id": "a202f413",
   "metadata": {},
   "outputs": [],
   "source": [
    "n_iter = 10000\n",
    "epsilon = 0.1\n",
    "alpha = 0.1\n",
    "gamma = 0\n",
    "S = np.zeros((n_agents)).astype(int)"
   ]
  },
  {
   "cell_type": "code",
   "execution_count": 553,
   "id": "258fdc1c",
   "metadata": {},
   "outputs": [],
   "source": [
    "M = {}"
   ]
  },
  {
   "cell_type": "code",
   "execution_count": 554,
   "id": "4a01d020",
   "metadata": {
    "scrolled": false
   },
   "outputs": [],
   "source": [
    "for t in range(n_iter):\n",
    "    \n",
    "    # print(\"iteration\", t)\n",
    "    \n",
    "    roles = np.where(wants > capitals, 0, 1)\n",
    "    actions = np.where(roles==0, \n",
    "                       e_greedy_select_action(Q_labour, S, epsilon), \n",
    "                       e_greedy_select_action(Q_capital, S, epsilon))\n",
    "    \n",
    "    capitalists = np.nonzero(roles==1)[0]\n",
    "    labourers = np.nonzero(roles==0)[0]\n",
    "        \n",
    "    # print(\"capitalists\", capitalists)\n",
    "    \n",
    "    capital_kinetic = capitals[capitalists]\n",
    "    labour_kinetic = timenergy[labourers]\n",
    "    \n",
    "    # print(\"kinetic capital\", capital_kinetic)\n",
    "    \n",
    "    capitalists_actions = actions[capitalists]\n",
    "    labourers_actions = actions[labourers]\n",
    "    \n",
    "    # print(\"capital actions\", capitalists_actions)\n",
    "    # print(\"labour actions\", labourers_actions)\n",
    "    \n",
    "    capital_allocations = [np.where(capitalists_actions==i, capital_kinetic, 0).sum() for i in range(n_processes)]\n",
    "    labour_allocations = [np.where(labourers_actions==i, labour_kinetic, 0).sum() for i in range(n_processes)]\n",
    "    \n",
    "    # print(\"capitals\", capitals)\n",
    "    \n",
    "    capitals[capitalists] = 0\n",
    "    \n",
    "    # print(\"capitals\", capitals)\n",
    "    \n",
    "    # print(\"capital to process\", capital_allocations)\n",
    "    # print(\"labour to process\", labour_allocations)\n",
    "    \n",
    "    produced = [production(m,e,c,l) for m,e,c,l in list(zip(p_multipliers, p_elasticities, capital_allocations, labour_allocations))]\n",
    "    # print(\"produced\", produced)\n",
    "    \n",
    "    returns = np.array([redistribution(Y,e,c,l) for Y,e,c,l in list(zip(produced, p_elasticities, capital_allocations, labour_allocations))])\n",
    "    # print(\"returns\", returns)\n",
    "    \n",
    "    rewards = np.zeros(n_agents)\n",
    "    rewards[labourers] = np.array([returns[a,0] for a in actions[labourers]])\n",
    "    rewards[capitalists] = np.array([returns[a,1] for a in actions[capitalists]])\n",
    "    \n",
    "    # print(\"rewards\", rewards)\n",
    "    \n",
    "    # print(capitalists, Q_capital, S, actions, rewards, alpha, gamma)\n",
    "    \n",
    "    Q_capital, _ = bellman_update_q_table(capitalists, Q_capital, S, actions, rewards, S, alpha, gamma)\n",
    "    Q_labour, _ = bellman_update_q_table(labourers, Q_labour, S, actions, rewards, S, alpha, gamma)\n",
    "    \n",
    "    capitals[capitalists] += rewards[capitalists] * capital_kinetic\n",
    "    capitals[labourers] += rewards[labourers] * labour_kinetic\n",
    "    \n",
    "    capitals = np.max(np.vstack([capitals - wants, np.zeros(n_agents)]), axis=0)\n",
    "    \n",
    "    # print(\"final capitals\", capitals)\n",
    "    \n",
    "    M[t] = {\n",
    "        \"A\": actions,\n",
    "        \"Y\": produced,\n",
    "        \"C\": capitals,\n",
    "        \"Cp\": capital_allocations,\n",
    "        \"Lp\": labour_allocations,\n",
    "        \"R\": rewards\n",
    "    }"
   ]
  },
  {
   "cell_type": "code",
   "execution_count": 555,
   "id": "f9e5b371",
   "metadata": {},
   "outputs": [],
   "source": [
    "Y = [M[t][\"Y\"] for t in range(n_iter)] "
   ]
  },
  {
   "cell_type": "code",
   "execution_count": 556,
   "id": "03b54124",
   "metadata": {},
   "outputs": [],
   "source": [
    "C = [M[t][\"C\"].sum() for t in range(n_iter)] "
   ]
  },
  {
   "cell_type": "code",
   "execution_count": 557,
   "id": "1caa23fe",
   "metadata": {
    "scrolled": true
   },
   "outputs": [
    {
     "data": {
      "text/plain": [
       "(array([5., 5.]), array([0.04765849, 0.04537723]))"
      ]
     },
     "execution_count": 557,
     "metadata": {},
     "output_type": "execute_result"
    }
   ],
   "source": [
    "p_multipliers, p_elasticities"
   ]
  },
  {
   "cell_type": "code",
   "execution_count": 558,
   "id": "d0e69e1d",
   "metadata": {},
   "outputs": [
    {
     "data": {
      "text/plain": [
       "[<matplotlib.lines.Line2D at 0x135cb3e20>,\n",
       " <matplotlib.lines.Line2D at 0x135cb3e80>]"
      ]
     },
     "execution_count": 558,
     "metadata": {},
     "output_type": "execute_result"
    },
    {
     "data": {
      "image/png": "[encoded data removed]",
      "text/plain": [
       "<Figure size 432x288 with 1 Axes>"
      ]
     },
     "metadata": {
      "needs_background": "light"
     },
     "output_type": "display_data"
    }
   ],
   "source": [
    "plt.plot(Y)"
   ]
  },
  {
   "cell_type": "code",
   "execution_count": 559,
   "id": "83e2daa7",
   "metadata": {},
   "outputs": [
    {
     "data": {
      "text/plain": [
       "[<matplotlib.lines.Line2D at 0x13511c9a0>]"
      ]
     },
     "execution_count": 559,
     "metadata": {},
     "output_type": "execute_result"
    },
    {
     "data": {
      "image/png": "[encoded data removed]",
      "text/plain": [
       "<Figure size 432x288 with 1 Axes>"
      ]
     },
     "metadata": {
      "needs_background": "light"
     },
     "output_type": "display_data"
    }
   ],
   "source": [
    "plt.plot(C)"
   ]
  },
  {
   "cell_type": "code",
   "execution_count": 560,
   "id": "a5d435ab",
   "metadata": {},
   "outputs": [],
   "source": [
    "Cp = [M[t][\"Cp\"] for t in range(n_iter)]\n",
    "Lp = [M[t][\"Lp\"] for t in range(n_iter)]"
   ]
  },
  {
   "cell_type": "code",
   "execution_count": 561,
   "id": "9330e028",
   "metadata": {},
   "outputs": [
    {
     "data": {
      "text/plain": [
       "[<matplotlib.lines.Line2D at 0x136cd38b0>,\n",
       " <matplotlib.lines.Line2D at 0x136cd3910>]"
      ]
     },
     "execution_count": 561,
     "metadata": {},
     "output_type": "execute_result"
    },
    {
     "data": {
      "image/png": "[encoded data removed]",
      "text/plain": [
       "<Figure size 432x288 with 1 Axes>"
      ]
     },
     "metadata": {
      "needs_background": "light"
     },
     "output_type": "display_data"
    }
   ],
   "source": [
    "plt.plot(Cp)"
   ]
  },
  {
   "cell_type": "code",
   "execution_count": 562,
   "id": "a2028be7",
   "metadata": {
    "scrolled": true
   },
   "outputs": [
    {
     "data": {
      "text/plain": [
       "[<matplotlib.lines.Line2D at 0x136d0fa90>,\n",
       " <matplotlib.lines.Line2D at 0x13680bf10>]"
      ]
     },
     "execution_count": 562,
     "metadata": {},
     "output_type": "execute_result"
    },
    {
     "data": {
      "image/png": "[encoded data removed]",
      "text/plain": [
       "<Figure size 432x288 with 1 Axes>"
      ]
     },
     "metadata": {
      "needs_background": "light"
     },
     "output_type": "display_data"
    }
   ],
   "source": [
    "plt.plot(Lp)"
   ]
  },
  {
   "cell_type": "code",
   "execution_count": null,
   "id": "dac3ce0a",
   "metadata": {},
   "outputs": [],
   "source": []
  },
  {
   "cell_type": "code",
   "execution_count": 537,
   "id": "69ca732c",
   "metadata": {},
   "outputs": [
    {
     "data": {
      "text/plain": [
       "{'A': array([0, 1, 1, 0, 1, 1, 0, 1, 1, 1]),\n",
       " 'Y': [268.0064551076203, 549.7840369720968],\n",
       " 'C': array([249.51259159, 243.41565887, 243.41565887,  23.21793561,\n",
       "        243.41565887, 243.41565887, 244.22347956, 243.41565887,\n",
       "         25.0185409 ,  35.88830093]),\n",
       " 'Cp': [215.15686468645094, 809.9008649210286],\n",
       " 'Lp': [50.0, 100.0],\n",
       " 'R': array([0.05936498, 0.03080337, 0.03080337, 5.10467344, 0.03080337,\n",
       "        0.03080337, 0.05936498, 0.03080337, 5.2483636 , 5.2483636 ])}"
      ]
     },
     "execution_count": 537,
     "metadata": {},
     "output_type": "execute_result"
    }
   ],
   "source": [
    "M[200]"
   ]
  },
  {
   "cell_type": "code",
   "execution_count": null,
   "id": "2e0d7ce5",
   "metadata": {},
   "outputs": [],
   "source": []
  }
 ],
 "metadata": {
  "kernelspec": {
   "display_name": "Python 3 (ipykernel)",
   "language": "python",
   "name": "python3"
  },
  "language_info": {
   "codemirror_mode": {
    "name": "ipython",
    "version": 3
   },
   "file_extension": ".py",
   "mimetype": "text/x-python",
   "name": "python",
   "nbconvert_exporter": "python",
   "pygments_lexer": "ipython3",
   "version": "3.10.2"
  }
 },
 "nbformat": 4,
 "nbformat_minor": 5
}
