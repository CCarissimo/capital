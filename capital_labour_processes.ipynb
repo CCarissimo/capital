{
 "cells": [
  {
   "cell_type": "code",
   "execution_count": 10,
   "id": "822c610f",
   "metadata": {},
   "outputs": [],
   "source": [
    "import numpy as np\n",
    "import matplotlib.pyplot as plt"
   ]
  },
  {
   "cell_type": "code",
   "execution_count": 95,
   "id": "d6e6ccb0",
   "metadata": {},
   "outputs": [],
   "source": [
    "def bellman_update_q_table(ind, Q, S, A, R, S_, alpha, gamma):\n",
    "    \"\"\"\n",
    "    Performs a one-step update using the bellman update equation for Q-learning.\n",
    "    :param ind: the indices of agents to update for, must match shapes of other arrays\n",
    "    :param agentConfig:\n",
    "    :param Q: np.ndarray Q-table indexed by (agents, states, actions)\n",
    "    :param S: np.ndarray States indexed by (agents)\n",
    "    :param A: np.ndarray Actions indexed by (agents)\n",
    "    :param R: np.ndarray Rewards indexed by (agents)\n",
    "    :param S_: np.ndarray Next States indexed by (agents)\n",
    "    :return: np.ndarray Q-table indexed by (agents, states, actions)\n",
    "    \"\"\"\n",
    "    # print(ind, Q[ind, S[ind], A[ind]], S[ind], A[ind], R[ind], S_[ind], Q[ind, S_[ind]].shape)\n",
    "    all_belief_updates = alpha * (R[ind] + gamma * Q[ind, S_[ind]].max(axis=1) - Q[ind, S[ind], A[ind]])\n",
    "    Q[ind, S[ind], A[ind]] = Q[ind, S[ind], A[ind]] + all_belief_updates\n",
    "    return Q, np.abs(all_belief_updates).sum()"
   ]
  },
  {
   "cell_type": "code",
   "execution_count": 646,
   "id": "0ab7fc7c",
   "metadata": {},
   "outputs": [],
   "source": [
    "def e_greedy_select_action(Q, S, epsilon, indices=None):\n",
    "    \"\"\"\n",
    "    Select actions based on an epsilon-greedy policy.\n",
    "    Q: (agents, states, actions)\n",
    "    S: (agents,)\n",
    "    epsilon: float\n",
    "    indices: np.ndarray or None, indices of allowed actions\n",
    "    \"\"\"\n",
    "    n_agents = Q.shape[0]\n",
    "    \n",
    "    if indices is None:\n",
    "        indices = np.arange(Q.shape[-1])  # all actions allowed\n",
    "    \n",
    "    rand = np.random.random_sample(size=n_agents)\n",
    "    randA = np.random.choice(indices, size=n_agents, replace=True)\n",
    "    \n",
    "    # Select Q-values restricted to allowed indices\n",
    "    q_values = Q[np.arange(n_agents), S, :][:, indices]  # shape (n_agents, len(indices))\n",
    "    \n",
    "    greedyA_idx = np.argmax(q_values, axis=1)  # index relative to `indices`\n",
    "    greedyA = indices[greedyA_idx]  # map back to original action indices\n",
    "    \n",
    "    # Epsilon-greedy selection\n",
    "    A = np.where(rand >= epsilon, greedyA, randA)\n",
    "    \n",
    "    return A"
   ]
  },
  {
   "cell_type": "code",
   "execution_count": 615,
   "id": "78b9b9ea",
   "metadata": {},
   "outputs": [],
   "source": [
    "def production(multiplier, elasticity, capital, labour):\n",
    "    return multiplier*capital**(elasticity)*labour**(1-elasticity)"
   ]
  },
  {
   "cell_type": "code",
   "execution_count": 616,
   "id": "428aa164",
   "metadata": {},
   "outputs": [],
   "source": [
    "def redistribution(Y, beta, capital_allocation, labour_allocation):\n",
    "    to_capitalists = Y*beta\n",
    "    to_labourers = Y*(1-beta)\n",
    "    \n",
    "    # shortcut\n",
    "    if capital_allocation==0 or labour_allocation==0:\n",
    "        return [.0, .0]\n",
    "    else:\n",
    "        capital_return = to_capitalists/capital_allocation\n",
    "        labour_return = to_labourers/labour_allocation\n",
    "        return [labour_return, capital_return]"
   ]
  },
  {
   "cell_type": "code",
   "execution_count": 764,
   "id": "612f497b",
   "metadata": {},
   "outputs": [],
   "source": [
    "n_agents = 100\n",
    "n_processes = 10\n",
    "\n",
    "wants = np.random.randint(1, 100, size=n_agents).astype(float)\n",
    "capitals = np.random.randint(1, 100, size=n_agents).astype(float)\n",
    "timenergy = np.ones(n_agents)*50\n",
    "\n",
    "p_multipliers = np.random.random(size=n_processes)*10\n",
    "p_elasticities = np.random.random(size=n_processes)  # np.array([0.04765849, 0.04537723])\n",
    "redistribution_thresholds = p_multipliers"
   ]
  },
  {
   "cell_type": "code",
   "execution_count": 765,
   "id": "660846fc",
   "metadata": {
    "scrolled": true
   },
   "outputs": [
    {
     "data": {
      "text/plain": [
       "(array([6.94680903, 0.02349417, 0.82696597, 1.01249382, 5.60304193,\n",
       "        3.03708698, 2.87357944, 5.04150032, 9.9469309 , 7.67266788]),\n",
       " array([0.73129417, 0.42531719, 0.41860673, 0.75160728, 0.3682054 ,\n",
       "        0.3063429 , 0.71899373, 0.9626197 , 0.19449554, 0.18824128]))"
      ]
     },
     "execution_count": 765,
     "metadata": {},
     "output_type": "execute_result"
    }
   ],
   "source": [
    "p_multipliers, p_elasticities"
   ]
  },
  {
   "cell_type": "code",
   "execution_count": 766,
   "id": "49d05fd5",
   "metadata": {},
   "outputs": [],
   "source": [
    "Q_capital = np.random.random(size=(n_agents, 1, n_processes))*0.1\n",
    "Q_labour = np.random.random(size=(n_agents, 1, n_processes))*0.1"
   ]
  },
  {
   "cell_type": "code",
   "execution_count": 767,
   "id": "fc824e34",
   "metadata": {},
   "outputs": [],
   "source": [
    "n_iter = 1000\n",
    "epsilon = 0.1\n",
    "alpha = 0.1\n",
    "gamma = 0\n",
    "S = np.zeros((n_agents)).astype(int)"
   ]
  },
  {
   "cell_type": "code",
   "execution_count": 768,
   "id": "6fcdd4f2",
   "metadata": {},
   "outputs": [],
   "source": [
    "M = {}"
   ]
  },
  {
   "cell_type": "code",
   "execution_count": 769,
   "id": "f5ca6c72",
   "metadata": {
    "scrolled": false
   },
   "outputs": [
    {
     "name": "stderr",
     "output_type": "stream",
     "text": [
      "/var/folders/7t/2_7wyk_177jf958xdx0cky2r0000gn/T/ipykernel_30119/1856235730.py:44: DeprecationWarning: elementwise comparison failed; this will raise an error in the future.\n",
      "  capitals[capitalists] = np.where(capitalists_actions in worked_processes, 0, capitals[capitalists])\n"
     ]
    }
   ],
   "source": [
    "for t in range(n_iter):\n",
    "    \n",
    "    # print(\"iteration\", t)\n",
    "    \n",
    "    roles = np.where(wants > capitals, 0, 1)\n",
    "    actions = np.where(roles==1, e_greedy_select_action(Q_capital, S, epsilon), 0)\n",
    "    \n",
    "    capitalists = np.nonzero(roles==1)[0]\n",
    "    labourers = np.nonzero(roles==0)[0]\n",
    "    \n",
    "    # print(\"capitalists\", capitalists)\n",
    "    \n",
    "    capital_kinetic = capitals[capitalists]\n",
    "    labour_kinetic = timenergy[labourers]\n",
    "    \n",
    "    # print(\"kinetic capital\", capital_kinetic)\n",
    "    \n",
    "    capitalists_actions = actions[capitalists]\n",
    "    #labourers_actions = actions[labourers]\n",
    "    \n",
    "    # print(\"capital actions\", capitalists_actions)\n",
    "    # print(\"labour actions\", labourers_actions)\n",
    "    \n",
    "    capital_allocations = np.array([np.where(capitalists_actions==i, capital_kinetic, 0).sum() for i in range(n_processes)])\n",
    "    \n",
    "    funded_processes = np.nonzero(capital_allocations > 0)[0]\n",
    "    # print(funded_processes)\n",
    "    \n",
    "    if len(funded_processes) == 0:\n",
    "        rewards = np.zeros(n_agents)\n",
    "        \n",
    "    else:  # at least one process funded\n",
    "        # print(funded_processes)\n",
    "        \n",
    "        actions = np.where(roles==0, e_greedy_select_action(Q_labour, S, epsilon, funded_processes), actions)\n",
    "        labourers_actions = actions[labourers]\n",
    "\n",
    "        labour_allocations = np.array([np.where(labourers_actions==i, labour_kinetic, 0).sum() for i in range(n_processes)])\n",
    "\n",
    "        worked_processes = np.nonzero(labour_allocations > 0)[0]\n",
    "\n",
    "        # print(\"capitals\", capitals)\n",
    "\n",
    "        capitals[capitalists] = np.where(capitalists_actions in worked_processes, 0, capitals[capitalists])\n",
    "\n",
    "        # print(\"capitals\", capitals)\n",
    "\n",
    "        # print(\"capital to process\", capital_allocations)\n",
    "        # print(\"labour to process\", labour_allocations)\n",
    "\n",
    "        produced = [production(m,e,c,l) for m,e,c,l in list(zip(p_multipliers, p_elasticities, capital_allocations, labour_allocations))]\n",
    "        # print(\"produced\", produced)\n",
    "\n",
    "        returns = np.array([redistribution(Y,e,c,l) for Y,e,c,l in list(zip(produced, p_elasticities, capital_allocations, labour_allocations))])\n",
    "        # print(\"returns\", returns)\n",
    "\n",
    "        rewards = np.zeros(n_agents)\n",
    "        rewards[labourers] = np.array([returns[a,0] for a in actions[labourers]])\n",
    "        rewards[capitalists] = np.array([returns[a,1] for a in actions[capitalists]])\n",
    "    \n",
    "    # print(\"rewards\", rewards)\n",
    "    \n",
    "    # print(capitalists, Q_capital, S, actions, rewards, alpha, gamma)\n",
    "    \n",
    "    Q_capital, _ = bellman_update_q_table(capitalists, Q_capital, S, actions, rewards, S, alpha, gamma)\n",
    "    Q_labour, _ = bellman_update_q_table(labourers, Q_labour, S, actions, rewards, S, alpha, gamma)\n",
    "    \n",
    "    capitals[capitalists] += rewards[capitalists] * capital_kinetic\n",
    "    capitals[labourers] += rewards[labourers] * labour_kinetic\n",
    "    \n",
    "    capitals = np.max(np.vstack([capitals - wants, np.zeros(n_agents)]), axis=0)\n",
    "    \n",
    "    # print(\"final capitals\", capitals)\n",
    "    \n",
    "    M[t] = {\n",
    "        \"A\": actions,\n",
    "        \"Y\": produced,\n",
    "        \"C\": capitals,\n",
    "        \"Cp\": capital_allocations,\n",
    "        \"Lp\": labour_allocations,\n",
    "        \"R\": rewards\n",
    "    }"
   ]
  },
  {
   "cell_type": "code",
   "execution_count": 770,
   "id": "ef3799ba",
   "metadata": {},
   "outputs": [],
   "source": [
    "Y = [M[t][\"Y\"] for t in range(n_iter)] "
   ]
  },
  {
   "cell_type": "code",
   "execution_count": 771,
   "id": "63688ed1",
   "metadata": {},
   "outputs": [],
   "source": [
    "C = [M[t][\"C\"].sum() for t in range(n_iter)] "
   ]
  },
  {
   "cell_type": "code",
   "execution_count": 772,
   "id": "0b8fc92a",
   "metadata": {
    "scrolled": true
   },
   "outputs": [
    {
     "data": {
      "text/plain": [
       "(array([6.94680903, 0.02349417, 0.82696597, 1.01249382, 5.60304193,\n",
       "        3.03708698, 2.87357944, 5.04150032, 9.9469309 , 7.67266788]),\n",
       " array([0.73129417, 0.42531719, 0.41860673, 0.75160728, 0.3682054 ,\n",
       "        0.3063429 , 0.71899373, 0.9626197 , 0.19449554, 0.18824128]))"
      ]
     },
     "execution_count": 772,
     "metadata": {},
     "output_type": "execute_result"
    }
   ],
   "source": [
    "p_multipliers, p_elasticities"
   ]
  },
  {
   "cell_type": "code",
   "execution_count": 779,
   "id": "09647d66",
   "metadata": {},
   "outputs": [
    {
     "data": {
      "image/png": "[encoded data removed]",
      "text/plain": [
       "<Figure size 432x288 with 1 Axes>"
      ]
     },
     "metadata": {
      "needs_background": "light"
     },
     "output_type": "display_data"
    }
   ],
   "source": [
    "plt.plot(Y)\n",
    "plt.yscale(\"log\")"
   ]
  },
  {
   "cell_type": "code",
   "execution_count": 782,
   "id": "63c7d357",
   "metadata": {},
   "outputs": [
    {
     "data": {
      "text/plain": [
       "(1e-05, 67496137.13154493)"
      ]
     },
     "execution_count": 782,
     "metadata": {},
     "output_type": "execute_result"
    },
    {
     "data": {
      "image/png": "[encoded data removed]",
      "text/plain": [
       "<Figure size 432x288 with 1 Axes>"
      ]
     },
     "metadata": {
      "needs_background": "light"
     },
     "output_type": "display_data"
    }
   ],
   "source": [
    "plt.plot(C)\n",
    "plt.yscale(\"log\")\n",
    "plt.ylim(10e-6, max(C))"
   ]
  },
  {
   "cell_type": "code",
   "execution_count": 775,
   "id": "3e55cd19",
   "metadata": {},
   "outputs": [],
   "source": [
    "Cp = [M[t][\"Cp\"] for t in range(n_iter)]\n",
    "Lp = [M[t][\"Lp\"] for t in range(n_iter)]"
   ]
  },
  {
   "cell_type": "code",
   "execution_count": 783,
   "id": "841e46a1",
   "metadata": {},
   "outputs": [
    {
     "data": {
      "text/plain": [
       "(1e-05, 67496137.13154493)"
      ]
     },
     "execution_count": 783,
     "metadata": {},
     "output_type": "execute_result"
    },
    {
     "data": {
      "image/png": "[encoded data removed]",
      "text/plain": [
       "<Figure size 432x288 with 1 Axes>"
      ]
     },
     "metadata": {
      "needs_background": "light"
     },
     "output_type": "display_data"
    }
   ],
   "source": [
    "plt.plot(Cp)\n",
    "plt.yscale(\"log\")\n",
    "plt.ylim(10e-6, max(C))"
   ]
  },
  {
   "cell_type": "code",
   "execution_count": 777,
   "id": "6a06a15e",
   "metadata": {
    "scrolled": false
   },
   "outputs": [
    {
     "data": {
      "text/plain": [
       "[<matplotlib.lines.Line2D at 0x13575dc60>,\n",
       " <matplotlib.lines.Line2D at 0x1357136d0>,\n",
       " <matplotlib.lines.Line2D at 0x13559a9e0>,\n",
       " <matplotlib.lines.Line2D at 0x13559a890>,\n",
       " <matplotlib.lines.Line2D at 0x13559b9d0>,\n",
       " <matplotlib.lines.Line2D at 0x13559baf0>,\n",
       " <matplotlib.lines.Line2D at 0x13559bc10>,\n",
       " <matplotlib.lines.Line2D at 0x13559bd30>,\n",
       " <matplotlib.lines.Line2D at 0x13559be50>,\n",
       " <matplotlib.lines.Line2D at 0x13559bf70>]"
      ]
     },
     "execution_count": 777,
     "metadata": {},
     "output_type": "execute_result"
    },
    {
     "data": {
      "image/png": "[encoded data removed]",
      "text/plain": [
       "<Figure size 432x288 with 1 Axes>"
      ]
     },
     "metadata": {
      "needs_background": "light"
     },
     "output_type": "display_data"
    }
   ],
   "source": [
    "plt.plot(Lp)"
   ]
  },
  {
   "cell_type": "code",
   "execution_count": null,
   "id": "5356af92",
   "metadata": {},
   "outputs": [],
   "source": []
  }
 ],
 "metadata": {
  "kernelspec": {
   "display_name": "Python 3 (ipykernel)",
   "language": "python",
   "name": "python3"
  },
  "language_info": {
   "codemirror_mode": {
    "name": "ipython",
    "version": 3
   },
   "file_extension": ".py",
   "mimetype": "text/x-python",
   "name": "python",
   "nbconvert_exporter": "python",
   "pygments_lexer": "ipython3",
   "version": "3.10.2"
  }
 },
 "nbformat": 4,
 "nbformat_minor": 5
}
